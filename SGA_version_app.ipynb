{
 "cells": [
  {
   "cell_type": "markdown",
   "metadata": {},
   "source": [
    "# Atenção!\n",
    "Caso ocorra algum erro ao conectar com o MongoDB, é necessário executar os seguintes comandos no terminal como Administrador.\n",
    "\n",
    "    python -m pip install psycopg2[srv]\n",
    "    python -m pip install psycopg2[tls]"
   ]
  },
  {
   "cell_type": "code",
   "execution_count": null,
   "metadata": {},
   "outputs": [],
   "source": [
    "!pip install psycopg2"
   ]
  },
  {
   "cell_type": "code",
   "execution_count": null,
   "metadata": {},
   "outputs": [],
   "source": [
    "import psycopg2\n",
    "import os\n",
    "from pymongo import MongoClient\n",
    "import sys\n",
    "import datetime"
   ]
  },
  {
   "cell_type": "code",
   "execution_count": null,
   "metadata": {},
   "outputs": [],
   "source": [
    "# Declaração variáveis globais\n",
    "pg_user = 'postgres'\n",
    "pg_senha = '<senha do usuário PostgreSQL>'\n",
    "pg_databases = os.environ['pg_databases'].split(',')\n",
    "clientes = []"
   ]
  },
  {
   "cell_type": "code",
   "execution_count": null,
   "metadata": {},
   "outputs": [],
   "source": [
    "# tratamento dos parâmetros via linha de comando\n",
    "parametros = sys.argv\n",
    "debugar = False\n",
    "\n",
    "if parametros[1] == 'true':\n",
    "    debugar = True  # habilita o modo de debug\n",
    "# fim do tratamento dos parâmetros"
   ]
  },
  {
   "cell_type": "code",
   "execution_count": null,
   "metadata": {},
   "outputs": [],
   "source": [
    "# Função que busca as informações no banco de dados Postgres\n",
    "def colata_dados():\n",
    "    \n",
    "    for banco in pg_databases:\n",
    "        \n",
    "        # Cria a conexão com o banco de dados PostgreSQL\n",
    "        conn = psycopg2.connect(\n",
    "        host=\"localhost\",\n",
    "        database=banco,\n",
    "        user=pg_user,\n",
    "        password=pg_senha\n",
    "        )\n",
    "        \n",
    "        # Cria um cursor para obter as informações desejadas no PostgreSQL\n",
    "        cur = conn.cursor()\n",
    "        \n",
    "        # Executa uma query buscando os dados desejados\n",
    "        cur.execute(\"select cfgconteudo from cfg where cfgcampo in ('LICCNPJ', 'LICRAZAO', 'VERSAOSIS') order by cfgcampo\")\n",
    "        \n",
    "        # Armazena o resultado da query na variável response\n",
    "        response = cur.fetchall()\n",
    "        \n",
    "        # Cria um dicionário com as respectivas chaves e valores\n",
    "        cliente = {\"razao\": response[1][0], \"cnpj\": response[0][0], \"versao\": response[2][0], \n",
    "                   \"data_verificacao\": datetime.datetime.utcnow()}\n",
    "        \n",
    "        # Adiciona o dicionario criado acima em uma lista\n",
    "        clientes.append(cliente)\n",
    "        \n",
    "        # Encerra o cursor\n",
    "        cur.close()\n",
    "        \n",
    "        # Encerra a conexão com o banco de dados\n",
    "        conn.close()\n",
    "    "
   ]
  },
  {
   "cell_type": "code",
   "execution_count": null,
   "metadata": {},
   "outputs": [],
   "source": [
    "# Função responsável por gravar no banco MongoDB as informações necessárias.\n",
    "def grava_dados():\n",
    "    \n",
    "    #  Cria a conexão com o servidor Mongo DB\n",
    "    conn = MongoClient(\"<link de acesso ao banco mongoDB>\")\n",
    "    \n",
    "    # Instanciado o banco de dado que será utilizado\n",
    "    if debugar:\n",
    "        db = conn.test\n",
    "    else:\n",
    "        db = conn.clients_retornodb\n",
    "    \n",
    "    # Instanciada a collection que será utilizada dentro do banco clients_retornodb\n",
    "    if debugar:\n",
    "        collection = db.teste\n",
    "    else:\n",
    "        collection = db.clients\n",
    "    \n",
    "    # Laço de repetição para inclusão das informações no banco\n",
    "    for cliente in clientes:\n",
    "        \n",
    "        # Utilizado um upsert onde, caso exista a informação no banco, a mesma será atualizada, senão, será inserida\n",
    "        collection.find_one_and_update({'cnpj':cliente['cnpj']},{'$set':cliente},upsert=True)\n",
    "    \n",
    "    # Limpa as informações da variável global clientes\n",
    "    clientes.clear()\n",
    "    \n",
    "    # Encerra a conexão com o banco de dados MongoDB\n",
    "    conn.close()"
   ]
  },
  {
   "cell_type": "code",
   "execution_count": null,
   "metadata": {},
   "outputs": [],
   "source": [
    "colata_dados()"
   ]
  },
  {
   "cell_type": "code",
   "execution_count": null,
   "metadata": {},
   "outputs": [],
   "source": [
    "grava_dados()"
   ]
  },
  {
   "cell_type": "code",
   "execution_count": null,
   "metadata": {},
   "outputs": [],
   "source": []
  }
 ],
 "metadata": {
  "kernelspec": {
   "display_name": "Python 3",
   "language": "python",
   "name": "python3"
  },
  "language_info": {
   "codemirror_mode": {
    "name": "ipython",
    "version": 3
   },
   "file_extension": ".py",
   "mimetype": "text/x-python",
   "name": "python",
   "nbconvert_exporter": "python",
   "pygments_lexer": "ipython3",
   "version": "3.8.5"
  }
 },
 "nbformat": 4,
 "nbformat_minor": 4
}
